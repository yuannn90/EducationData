{
  "nbformat": 4,
  "nbformat_minor": 0,
  "metadata": {
    "colab": {
      "provenance": []
    },
    "kernelspec": {
      "name": "python3",
      "display_name": "Python 3"
    },
    "language_info": {
      "name": "python"
    }
  },
  "cells": [
    {
      "cell_type": "markdown",
      "source": [
        "# 台灣教育長期追蹤資料庫 TEPS"
      ],
      "metadata": {
        "id": "a0meLqAVXw6O"
      }
    },
    {
      "cell_type": "markdown",
      "source": [
        "「台灣教育長期追蹤資料庫」(Taiwan Education Panel Survey，簡稱TEPS)係由中央研究院、教育部和國科會共同規劃的一項全國性長期的調查計畫。本資料庫是以問卷調查方式，向國中、高中、高職、及五專學生收集資料。同時以這些學生為核心，擴及學生家長、老師及學校，以瞭解影響學生學習經驗的相關因素。"
      ],
      "metadata": {
        "id": "QfAC-y8wX3Qm"
      }
    },
    {
      "cell_type": "markdown",
      "source": [
        "<div align=center>\n",
        "<img src=\"https://srda.sinica.edu.tw/SRDA/userfiles/files/TEPS_0909.png\" width=\"50%\" height=\"50%\" div align=center />\n",
        "</div>"
      ],
      "metadata": {
        "id": "sSQwJWpcX3S4"
      }
    },
    {
      "cell_type": "markdown",
      "source": [
        "◼**TEPS計畫介紹**\n",
        "\n",
        "TEPS是2000年至2007年由中央研究院、教育部（後由國立教育研究院籌備處接續）以及科技部（原國科會）共同規劃的「臺灣教育長期追蹤資料庫」（Taiwan Education Panel Survey, TEPS），為臺灣第一個對國中、高中、高職、五專學生進行長期資料收集的計畫，以問卷的方式針對影響這些學生學習的個人及其環境因素收集資料，作為學界從事臺灣教育基礎研究的資料庫。"
      ],
      "metadata": {
        "id": "IDcVE_jzX3VG"
      }
    },
    {
      "cell_type": "markdown",
      "source": [
        "TEPS計畫共分成兩個梯次調查\n",
        "\n",
        "第一梯次（2001-2003，簡稱Panel 1）調查對象分別如下：\n",
        "\n",
        "\n",
        "\n",
        "*   2001年（第一波調查）：出生於1988/1989年之國一學生（抽取約兩萬人）、出生於1984/1985之高中職五專二年級學生（抽取約兩萬人）。\n",
        "*   2003年（第二波調查）：同一樣本，國三或高三、專三時再追蹤調查。\n",
        "\n",
        "\n"
      ],
      "metadata": {
        "id": "NLjdxDBvX3XP"
      }
    },
    {
      "cell_type": "markdown",
      "source": [
        "第二梯次（2005-2007，簡稱Panel 2）調查對象—-\n",
        "\n",
        "\n",
        "\n",
        "*   2005年（第三波調查）：出生於1988/1989年之高中職五專二、專二學生（抽取約兩萬人），其中四千人於Panel1國一國三時進行過調查。\n",
        "*   2007年（第四波調查）：同一樣本，高三、專三時再追蹤調查。\n",
        "\n",
        "\n"
      ],
      "metadata": {
        "id": "XckaoEOtX3ZX"
      }
    },
    {
      "cell_type": "markdown",
      "source": [
        "◼**計畫特色**\n",
        "\n",
        "\n",
        "\n",
        "1.   以問卷調查方法來收集資料，焦點放在學校及家庭學習環境（制度及社會面向）對學生的影響上。\n",
        "2.   為研究者提供多面向、長期追蹤的資料。\n",
        "3.   資料範圍包含學生個人、班級和學校等多層次。\n",
        "4.   由於近年來教育制度的更迭，本調查對兩個年級（共約四萬人）的學生收集的資料，可以讓未來的分析有準實驗設計的可能性。\n",
        "5.   更重要的是，這個資料庫在資料收集和整理完成後，隨即會對外公開，成為學界和政策制定部門的共同資產。\n",
        "\n",
        "\n"
      ],
      "metadata": {
        "id": "FG1bJcP9X3bO"
      }
    },
    {
      "cell_type": "markdown",
      "source": [
        "# TEPS-B計畫介紹"
      ],
      "metadata": {
        "id": "XxG2Wzt5asDI"
      }
    },
    {
      "cell_type": "markdown",
      "source": [
        "是台灣教育長期追蹤資料庫（TEPS）的後續追蹤調查，簡稱為TEPS-B（Taiwan Education Panel Survey and Beyond）。有鑑於TEPS長期追蹤資料作為社會科學界及教育界公共資產的珍貴性及重要性，以及為了進一步探討教育與勞力市場間的關係，乃於2009年起，由國立政治大學、國立台灣大學及中央研究院等三學術機構之六位研究人員共同組成之研究團隊，規劃並執行名為「『臺灣教育長期追蹤資料庫』後續調查：教育與勞力市場的連結」(TEPS-B)，繼續追蹤TEPS當年接受調查的學生樣本。這些學生目前正值人生進入勞力市場或繼續升學的階段，故TEPS-B的研究計畫的研究問題與理論分析架構聚焦在高等教育擴張後，大學品質和科系選擇對進入勞力市場後的職業表現，及性別在科系選擇和職場上的表現差異上。"
      ],
      "metadata": {
        "id": "8MLWYhw2asPG"
      }
    },
    {
      "cell_type": "markdown",
      "source": [
        "TEPS-B計畫執行至今，依計畫經費規劃及來源，可分為四期。第一期為2009年至2012年（簡稱TEPS-B 2009），第二期為2013年至2017年（簡稱TEPS-B 2013），第三期為2018年至2019年（簡稱TEPS-B 2018），第四期為2019年至2020年（簡稱TEPS-B 2019）。"
      ],
      "metadata": {
        "id": "uzzK7MSIasbe"
      }
    },
    {
      "cell_type": "markdown",
      "source": [
        "◼**調查對象與方法**\n",
        "\n",
        "　TEPS-B之目的為繼續追蹤當年接受TEPS調查的學生樣本，調查樣本名稱、年度與方式、樣本年級與年齡如下表。\n",
        "\n",
        "<div align=center>\n",
        "<img src=\"https://tepsb.nccu.edu.tw/wp-content/uploads/2020/08/sample_2019.png\" width=\"50%\" height=\"50%\" div align=center />\n",
        "</div>\n"
      ],
      "metadata": {
        "id": "LMd-Ydgsasdt"
      }
    }
  ]
}